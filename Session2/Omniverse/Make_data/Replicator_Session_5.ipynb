{
  "nbformat": 4,
  "nbformat_minor": 0,
  "metadata": {
    "colab": {
      "provenance": []
    },
    "kernelspec": {
      "name": "python3",
      "display_name": "Python 3"
    },
    "language_info": {
      "name": "python"
    }
  },
  "cells": [
    {
      "cell_type": "markdown",
      "source": [
        "# Step 1. Data Generation\n",
        "\n",
        "- DLI has provided sample replicator code for fruit data generation.\n",
        "- Follow Instruction and make your own dataset also"
      ],
      "metadata": {
        "id": "IPQ0PGGYUDj4"
      }
    },
    {
      "cell_type": "markdown",
      "source": [
        "![](https://www.notion.so/image/https%3A%2F%2Fprod-files-secure.s3.us-west-2.amazonaws.com%2F5fbee23e-d9ec-4824-b2be-c8716a8602cd%2Fb66957f3-56fa-4599-9142-b66ca7442db7%2FScreenshot_from_2024-07-31_00-53-58.png?table=block&id=3f6a0d15-d302-4f5c-b13c-d8621c873a1a&spaceId=5fbee23e-d9ec-4824-b2be-c8716a8602cd&width=2000&userId=b9f59011-0253-43ef-946a-512501504ba8&cache=v2)"
      ],
      "metadata": {
        "id": "gukcnYeXZLn4"
      }
    },
    {
      "cell_type": "markdown",
      "source": [
        "## 1. Setup the static elements"
      ],
      "metadata": {
        "id": "UoRYzKLHWzET"
      }
    },
    {
      "cell_type": "code",
      "source": [
        "import datetime\n",
        "now = datetime.datetime.now()\n",
        "import omni.replicator.core as rep\n",
        "\n",
        "with rep.new_layer():\n",
        "    # Define paths for the character, the props, the environment and the surface where the assets will be scattered in.\n",
        "    _nucleus_server_path = \"omniverse://localhost/NVIDIA/\"\n",
        "    CRATE = _nucleus_server_path + \"Samples/Marbles/assets/standalone/SM_room_crate_3/SM_room_crate_3.usd\"\n",
        "    SURFACE = _nucleus_server_path + \"Assets/Scenes/Templates/Basic/display_riser.usd\"\n",
        "    ENVS = _nucleus_server_path + 'Assets/Scenes/Templates/Interior/ZetCG_ExhibitionHall.usd'\n",
        "\n",
        "\n",
        "    # Setup the static elements\n",
        "    env = rep.create.from_usd(ENVS)\n",
        "    surface = rep.create.from_usd(SURFACE)\n",
        "    with surface:\n",
        "        rep.physics.collider()\n",
        "    crate = rep.create.from_usd(CRATE)\n",
        "    with crate:\n",
        "        rep.physics.collider()\n",
        "        rep.physics.mass(mass=100)\n",
        "        rep.modify.pose(\n",
        "                position=(0,20,0),\n",
        "                rotation=(0, 0, 90)\n",
        "            )\n",
        "\n",
        "    # Setup camera and attach it to render product\n",
        "    camera =  rep.create.camera()\n",
        "    render_product = rep.create.render_product(camera, resolution=(1024, 1024))\n"
      ],
      "metadata": {
        "id": "b3IBvcTNWrTq"
      },
      "execution_count": null,
      "outputs": []
    },
    {
      "cell_type": "markdown",
      "source": [
        "## 2. Randomize camera view"
      ],
      "metadata": {
        "id": "22A-4Oh8W1rj"
      }
    },
    {
      "cell_type": "code",
      "source": [
        "import datetime\n",
        "now = datetime.datetime.now()\n",
        "import omni.replicator.core as rep\n",
        "\n",
        "with rep.new_layer():\n",
        "    # Define paths for the character, the props, the environment and the surface where the assets will be scattered in.\n",
        "    _nucleus_server_path = \"omniverse://localhost/NVIDIA/\"\n",
        "    CRATE = _nucleus_server_path + \"Samples/Marbles/assets/standalone/SM_room_crate_3/SM_room_crate_3.usd\"\n",
        "    SURFACE = _nucleus_server_path + \"Assets/Scenes/Templates/Basic/display_riser.usd\"\n",
        "    ENVS = _nucleus_server_path + 'Assets/Scenes/Templates/Interior/ZetCG_ExhibitionHall.usd'\n",
        "\n",
        "\n",
        "    # Setup the static elements\n",
        "    env = rep.create.from_usd(ENVS)\n",
        "    surface = rep.create.from_usd(SURFACE)\n",
        "    with surface:\n",
        "        rep.physics.collider()\n",
        "    crate = rep.create.from_usd(CRATE)\n",
        "    with crate:\n",
        "        rep.physics.collider()\n",
        "        rep.physics.mass(mass=100)\n",
        "        rep.modify.pose(\n",
        "                position=(0,20,0),\n",
        "                rotation=(0, 0, 90)\n",
        "            )\n",
        "\n",
        "    # Setup camera and attach it to render product\n",
        "    camera =  rep.create.camera()\n",
        "    render_product = rep.create.render_product(camera, resolution=(1024, 1024))\n",
        "\n",
        "    # trigger on frame for an interval\n",
        "    with rep.trigger.on_frame(num_frames=30):\n",
        "        with camera:\n",
        "            rep.modify.pose(position=rep.distribution.uniform((-20, 90, -17), (10, 140, -15)), look_at=(0,20,0))\n",
        ""
      ],
      "metadata": {
        "id": "cRPD1UXOW49b"
      },
      "execution_count": null,
      "outputs": []
    },
    {
      "cell_type": "markdown",
      "source": [
        "## 3. Randomize Props"
      ],
      "metadata": {
        "id": "BFohbh-YW7ci"
      }
    },
    {
      "cell_type": "code",
      "source": [
        "import datetime\n",
        "now = datetime.datetime.now()\n",
        "import omni.replicator.core as rep\n",
        "\n",
        "with rep.new_layer():\n",
        "    # Define paths for the character, the props, the environment and the surface where the assets will be scattered in.\n",
        "    _nucleus_server_path = \"omniverse://localhost/NVIDIA/\"\n",
        "    CRATE = _nucleus_server_path + \"Samples/Marbles/assets/standalone/SM_room_crate_3/SM_room_crate_3.usd\"\n",
        "    SURFACE = _nucleus_server_path + \"Assets/Scenes/Templates/Basic/display_riser.usd\"\n",
        "    ENVS = _nucleus_server_path + 'Assets/Scenes/Templates/Interior/ZetCG_ExhibitionHall.usd'\n",
        "    FRUIT_PROPS = {\n",
        "        'apple': _nucleus_server_path + 'Assets/ArchVis/Residential/Food/Fruit/Apple.usd',\n",
        "        'avocado': _nucleus_server_path + 'Assets/ArchVis/Residential/Food/Fruit/Avocado01.usd',\n",
        "        'kiwi': _nucleus_server_path + 'Assets/ArchVis/Residential/Food/Fruit/Kiwi01.usd',\n",
        "        'lime': _nucleus_server_path + 'Assets/ArchVis/Residential/Food/Fruit/Lime01.usd',\n",
        "        'lychee': _nucleus_server_path + 'Assets/ArchVis/Residential/Food/Fruit/Lychee01.usd',\n",
        "        'pomegranate': _nucleus_server_path + 'Assets/ArchVis/Residential/Food/Fruit/Pomegranate01.usd',\n",
        "        'onion': _nucleus_server_path + 'Assets/ArchVis/Residential/Food/Vegetables/RedOnion.usd',\n",
        "        'strawberry': _nucleus_server_path + 'Assets/ArchVis/Residential/Food/Berries/strawberry.usd',\n",
        "        'lemon': _nucleus_server_path + 'Assets/ArchVis/Residential/Decor/Tchotchkes/Lemon_01.usd',\n",
        "        'orange': _nucleus_server_path + 'Assets/ArchVis/Residential/Decor/Tchotchkes/Orange_01.usd'\n",
        "    }\n",
        "\n",
        "    def random_props(file_name, class_name, max_number=1, one_in_n_chance=3):\n",
        "        instances = rep.randomizer.instantiate(file_name, size=max_number, mode='scene_instance')\n",
        "        print(file_name)\n",
        "        with instances:\n",
        "            rep.physics.collider()\n",
        "            rep.modify.semantics([('class', class_name)])\n",
        "            rep.modify.pose(\n",
        "                position=rep.distribution.uniform((-4, 4, -25), (4, 15, 25)),\n",
        "                rotation=rep.distribution.uniform((-180,-180, -180), (180, 180, 180)),\n",
        "                scale = rep.distribution.uniform((0.8), (1.2)),\n",
        "            )\n",
        "            rep.modify.visibility(rep.distribution.choice([True],[False]*(one_in_n_chance)))\n",
        "        return instances.node\n",
        "\n",
        "    # Setup the static elements\n",
        "    env = rep.create.from_usd(ENVS)\n",
        "    surface = rep.create.from_usd(SURFACE)\n",
        "    with surface:\n",
        "        rep.physics.collider()\n",
        "    crate = rep.create.from_usd(CRATE)\n",
        "    with crate:\n",
        "        rep.physics.collider()\n",
        "        rep.physics.mass(mass=100)\n",
        "        rep.modify.pose(\n",
        "                position=(0,20,0),\n",
        "                rotation=(0, 0, 90)\n",
        "            )\n",
        "\n",
        "    # Setup camera and attach it to render product\n",
        "    camera =  rep.create.camera()\n",
        "    render_product = rep.create.render_product(camera, resolution=(1024, 1024))\n",
        "    rep.randomizer.register(random_props)\n",
        "\n",
        "    # trigger on frame for an interval\n",
        "    with rep.trigger.on_frame(num_frames=30):\n",
        "        for n, f in FRUIT_PROPS.items():\n",
        "            random_props(f, n)\n",
        "        with camera:\n",
        "            rep.modify.pose(position=rep.distribution.uniform((-20, 90, -17), (10, 140, -15)), look_at=(0,20,0))\n",
        ""
      ],
      "metadata": {
        "id": "w5Y49qSEW_3t"
      },
      "execution_count": null,
      "outputs": []
    },
    {
      "cell_type": "markdown",
      "source": [
        "## 4. sphere_lights Randomize"
      ],
      "metadata": {
        "id": "8LiY6IBLXCrE"
      }
    },
    {
      "cell_type": "code",
      "source": [
        "import datetime\n",
        "now = datetime.datetime.now()\n",
        "import omni.replicator.core as rep\n",
        "\n",
        "with rep.new_layer():\n",
        "    # Define paths for the character, the props, the environment and the surface where the assets will be scattered in.\n",
        "    _nucleus_server_path = \"omniverse://localhost/NVIDIA/\"\n",
        "    CRATE = _nucleus_server_path + \"Samples/Marbles/assets/standalone/SM_room_crate_3/SM_room_crate_3.usd\"\n",
        "    SURFACE = _nucleus_server_path + \"Assets/Scenes/Templates/Basic/display_riser.usd\"\n",
        "    ENVS = _nucleus_server_path + 'Assets/Scenes/Templates/Interior/ZetCG_ExhibitionHall.usd'\n",
        "    FRUIT_PROPS = {\n",
        "        'apple': _nucleus_server_path + 'Assets/ArchVis/Residential/Food/Fruit/Apple.usd',\n",
        "        'avocado': _nucleus_server_path + 'Assets/ArchVis/Residential/Food/Fruit/Avocado01.usd',\n",
        "        'kiwi': _nucleus_server_path + 'Assets/ArchVis/Residential/Food/Fruit/Kiwi01.usd',\n",
        "        'lime': _nucleus_server_path + 'Assets/ArchVis/Residential/Food/Fruit/Lime01.usd',\n",
        "        'lychee': _nucleus_server_path + 'Assets/ArchVis/Residential/Food/Fruit/Lychee01.usd',\n",
        "        'pomegranate': _nucleus_server_path + 'Assets/ArchVis/Residential/Food/Fruit/Pomegranate01.usd',\n",
        "        'onion': _nucleus_server_path + 'Assets/ArchVis/Residential/Food/Vegetables/RedOnion.usd',\n",
        "        'strawberry': _nucleus_server_path + 'Assets/ArchVis/Residential/Food/Berries/strawberry.usd',\n",
        "        'lemon': _nucleus_server_path + 'Assets/ArchVis/Residential/Decor/Tchotchkes/Lemon_01.usd',\n",
        "        'orange': _nucleus_server_path + 'Assets/ArchVis/Residential/Decor/Tchotchkes/Orange_01.usd'\n",
        "    }\n",
        "\n",
        "    def random_props(file_name, class_name, max_number=1, one_in_n_chance=3):\n",
        "        instances = rep.randomizer.instantiate(file_name, size=max_number, mode='scene_instance')\n",
        "        print(file_name)\n",
        "        with instances:\n",
        "            rep.physics.collider()\n",
        "            rep.modify.semantics([('class', class_name)])\n",
        "            rep.modify.pose(\n",
        "                position=rep.distribution.uniform((-4, 4, -25), (4, 15, 25)),\n",
        "                rotation=rep.distribution.uniform((-180,-180, -180), (180, 180, 180)),\n",
        "                scale = rep.distribution.uniform((0.8), (1.2)),\n",
        "            )\n",
        "            rep.modify.visibility(rep.distribution.choice([True],[False]*(one_in_n_chance)))\n",
        "        return instances.node\n",
        "\n",
        "    def sphere_lights(num):\n",
        "        lights = rep.create.light(\n",
        "            light_type=\"Sphere\",\n",
        "            temperature=rep.distribution.normal(3000, 500),\n",
        "            intensity=rep.distribution.normal(30000, 1000),\n",
        "            position=rep.distribution.uniform((-300, -300, -300), (300, 300, 300)),\n",
        "            scale=rep.distribution.uniform(50, 100),\n",
        "            count=num        )\n",
        "        return lights.node\n",
        "\n",
        "    # Setup the static elements\n",
        "    env = rep.create.from_usd(ENVS)\n",
        "    surface = rep.create.from_usd(SURFACE)\n",
        "    with surface:\n",
        "        rep.physics.collider()\n",
        "    crate = rep.create.from_usd(CRATE)\n",
        "    with crate:\n",
        "        rep.physics.collider()\n",
        "        rep.physics.mass(mass=100)\n",
        "        rep.modify.pose(\n",
        "                position=(0,20,0),\n",
        "                rotation=(0, 0, 90)\n",
        "            )\n",
        "\n",
        "    # Setup camera and attach it to render product\n",
        "    camera =  rep.create.camera()\n",
        "    render_product = rep.create.render_product(camera, resolution=(1024, 1024))\n",
        "    rep.randomizer.register(random_props)\n",
        "    rep.randomizer.register(sphere_lights)\n",
        "\n",
        "    # trigger on frame for an interval\n",
        "    with rep.trigger.on_frame(num_frames=30):\n",
        "        for n, f in FRUIT_PROPS.items():\n",
        "            random_props(f, n)\n",
        "        rep.randomizer.sphere_lights(5)\n",
        "        with camera:\n",
        "            rep.modify.pose(position=rep.distribution.uniform((-20, 90, -17), (10, 140, -15)), look_at=(0,20,0))\n",
        ""
      ],
      "metadata": {
        "id": "b4b5QDAgXHgU"
      },
      "execution_count": null,
      "outputs": []
    },
    {
      "cell_type": "markdown",
      "source": [
        "## 5. Attach Writer and Save Fruit Dataset"
      ],
      "metadata": {
        "id": "AlrGzHj_XJuK"
      }
    },
    {
      "cell_type": "code",
      "execution_count": null,
      "metadata": {
        "id": "Uf1JLvtqUBAt"
      },
      "outputs": [],
      "source": [
        "import datetime\n",
        "now = datetime.datetime.now()\n",
        "import omni.replicator.core as rep\n",
        "\n",
        "with rep.new_layer():\n",
        "    # Define paths for the character, the props, the environment and the surface where the assets will be scattered in.\n",
        "    CRATE = 'omniverse://ove-nucleus.courses.nvidia.com/NVIDIA/Samples/Marbles/assets/standalone/SM_room_crate_3/SM_room_crate_3.usd'\n",
        "    SURFACE = 'omniverse://ove-nucleus.courses.nvidia.com/NVIDIA/Assets/Scenes/Templates/Basic/display_riser.usd'\n",
        "    ENVS = 'omniverse://ove-nucleus.courses.nvidia.com/NVIDIA/Assets/Scenes/Templates/Interior/ZetCG_ExhibitionHall.usd'\n",
        "    FRUIT_PROPS = {\n",
        "        'apple': 'omniverse://ove-nucleus.courses.nvidia.com/NVIDIA/Assets/ArchVis/Residential/Food/Fruit/Apple.usd',\n",
        "        'avocado': 'omniverse://ove-nucleus.courses.nvidia.com/NVIDIA/Assets/ArchVis/Residential/Food/Fruit/Avocado01.usd',\n",
        "        'kiwi': 'omniverse://ove-nucleus.courses.nvidia.com/NVIDIA/Assets/ArchVis/Residential/Food/Fruit/Kiwi01.usd',\n",
        "        'lime': 'omniverse://ove-nucleus.courses.nvidia.com/NVIDIA/Assets/ArchVis/Residential/Food/Fruit/Lime01.usd',\n",
        "        'lychee': 'omniverse://ove-nucleus.courses.nvidia.com/NVIDIA/Assets/ArchVis/Residential/Food/Fruit/Lychee01.usd',\n",
        "        'pomegranate': 'omniverse://ove-nucleus.courses.nvidia.com/NVIDIA/Assets/ArchVis/Residential/Food/Fruit/Pomegranate01.usd',\n",
        "        'onion': 'omniverse://ove-nucleus.courses.nvidia.com/NVIDIA/Assets/ArchVis/Residential/Food/Vegetables/RedOnion.usd',\n",
        "        'strawberry': 'omniverse://ove-nucleus.courses.nvidia.com/NVIDIA/Assets/ArchVis/Residential/Food/Berries/strawberry.usd',\n",
        "        'lemon': 'omniverse://ove-nucleus.courses.nvidia.com/NVIDIA/Assets/ArchVis/Residential/Decor/Tchotchkes/Lemon_01.usd',\n",
        "        'orange': 'omniverse://ove-nucleus.courses.nvidia.com/NVIDIA/Assets/ArchVis/Residential/Decor/Tchotchkes/Orange_01.usd'    }\n",
        "\n",
        "    def random_props(file_name, class_name, max_number=1, one_in_n_chance=3):\n",
        "        instances = rep.randomizer.instantiate(file_name, size=max_number, mode='scene_instance')\n",
        "        print(file_name)\n",
        "        with instances:\n",
        "            rep.physics.collider()\n",
        "            rep.modify.semantics([('class', class_name)])\n",
        "            rep.modify.pose(\n",
        "                position=rep.distribution.uniform((-4, 4, -25), (4, 15, 25)),\n",
        "                rotation=rep.distribution.uniform((-180,-180, -180), (180, 180, 180)),\n",
        "                scale = rep.distribution.uniform((0.8), (1.2)),\n",
        "            )\n",
        "            rep.modify.visibility(rep.distribution.choice([True],[False]*(one_in_n_chance)))\n",
        "        return instances.node\n",
        "\n",
        "    def sphere_lights(num):\n",
        "        lights = rep.create.light(\n",
        "            light_type=\"Sphere\",\n",
        "            temperature=rep.distribution.normal(3000, 500),\n",
        "            intensity=rep.distribution.normal(30000, 1000),\n",
        "            position=rep.distribution.uniform((-300, -300, -300), (300, 300, 300)),\n",
        "            scale=rep.distribution.uniform(50, 100),\n",
        "            count=num        )\n",
        "        return lights.node\n",
        "\n",
        "    # Setup the static elements\n",
        "    env = rep.create.from_usd(ENVS)\n",
        "    surface = rep.create.from_usd(SURFACE)\n",
        "    with surface:\n",
        "        rep.physics.collider()\n",
        "    crate = rep.create.from_usd(CRATE)\n",
        "    with crate:\n",
        "        rep.physics.collider()\n",
        "        rep.physics.mass(mass=100)\n",
        "        rep.modify.pose(\n",
        "                position=(0,20,0),\n",
        "                rotation=(0, 0, 90)\n",
        "            )\n",
        "\n",
        "    # Setup camera and attach it to render product\n",
        "    camera =  rep.create.camera()\n",
        "    render_product = rep.create.render_product(camera, resolution=(1024, 1024))\n",
        "\n",
        "    rep.randomizer.register(random_props)\n",
        "    rep.randomizer.register(sphere_lights)\n",
        "    # trigger on frame for an interval\n",
        "    with rep.trigger.on_frame(num_frames=100):\n",
        "        rep.modify.timeline(5, \"frame\")\n",
        "        for n, f in FRUIT_PROPS.items():\n",
        "            random_props(f, n)\n",
        "        rep.randomizer.sphere_lights(5)\n",
        "        with camera:\n",
        "            rep.modify.pose(position=rep.distribution.uniform((-20, 90, -17), (10, 140, -15)), look_at=(0,20,0))\n",
        "\n",
        "    # Initialize and attach writer\n",
        "    from os.path import expanduser\n",
        "    home = expanduser(\"~\")\n",
        "\n",
        "    writer = rep.WriterRegistry.get(\"BasicWriter\")\n",
        "    now=now.strftime(\"%Y-%m-%d_%H:%M:%S\")\n",
        "    output_dir = home+\"/Documents/fruit_data_\"+now\n",
        "    writer.initialize( output_dir=output_dir, rgb=True, bounding_box_2d_tight=True)\n",
        "    writer.attach([render_product])\n",
        "\n",
        "    # Run Replicator script headlessly\n",
        "    rep.orchestrator.run()"
      ]
    },
    {
      "cell_type": "markdown",
      "source": [
        "## After data collection check all data are valid\n",
        "\n",
        "- rgb\n",
        "- bbox\n",
        "- segmentation\n",
        "- etc..\n",
        "\n",
        "![](https://www.notion.so/image/https%3A%2F%2Fprod-files-secure.s3.us-west-2.amazonaws.com%2F5fbee23e-d9ec-4824-b2be-c8716a8602cd%2F8f63826a-a4e7-40e9-953c-321d10cdd53e%2FUntitled.png?table=block&id=beca06d5-4f7e-4577-92dc-a9911e47ab8a&spaceId=5fbee23e-d9ec-4824-b2be-c8716a8602cd&width=2000&userId=b9f59011-0253-43ef-946a-512501504ba8&cache=v2)"
      ],
      "metadata": {
        "id": "zxvlnaEwYq6r"
      }
    },
    {
      "cell_type": "markdown",
      "source": [
        "## Project - Collect own Dataset\n",
        "\n",
        "- More than 5 objects\n",
        "- Background and Lights\n",
        "- Camera pose randomization / Object randomization / Light randomization ..."
      ],
      "metadata": {
        "id": "ZUl5-05BYxg6"
      }
    },
    {
      "cell_type": "markdown",
      "source": [
        "## Headless Execution\n",
        "\n",
        "> You can create dataset without running actual code rendering. But you cannot see what happens on that.\n",
        "> Be sure all codes work well and check termial logs also.\n",
        "\n",
        "![](https://www.notion.so/image/https%3A%2F%2Fprod-files-secure.s3.us-west-2.amazonaws.com%2F5fbee23e-d9ec-4824-b2be-c8716a8602cd%2F16b17c77-1d25-400f-a672-aaffe895ec08%2FUntitled.png?table=block&id=52318142-5003-4f7c-bfc2-6e6386440325&spaceId=5fbee23e-d9ec-4824-b2be-c8716a8602cd&width=2000&userId=b9f59011-0253-43ef-946a-512501504ba8&cache=v2)\n",
        "\n",
        "```\n",
        "cd /home/user/.local/share/ov/pkg/code-2022.3.1 && ./omni.code.sh --no-window --/omni/replicator/script=/opt/project/generate_data_headless.py\n",
        "```"
      ],
      "metadata": {
        "id": "ZPJmJqzIaMZ2"
      }
    },
    {
      "cell_type": "code",
      "source": [],
      "metadata": {
        "id": "G5d4eY06aFYR"
      },
      "execution_count": null,
      "outputs": []
    }
  ]
}